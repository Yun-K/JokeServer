{
  "nbformat": 4,
  "nbformat_minor": 0,
  "metadata": {
    "accelerator": "TPU",
    "colab": {
      "name": "MLP.ipynb",
      "provenance": [],
      "collapsed_sections": [],
      "include_colab_link": true
    },
    "interpreter": {
      "hash": "6cfee2bad94d2a199856bba715a6a719a1b6dadbcd1d366ba7b99cf78a59f189"
    },
    "kernelspec": {
      "display_name": "Python 3 (ipykernel)",
      "language": "python",
      "name": "python3"
    },
    "language_info": {
      "codemirror_mode": {
        "name": "ipython",
        "version": 3
      },
      "file_extension": ".py",
      "mimetype": "text/x-python",
      "name": "python",
      "nbconvert_exporter": "python",
      "pygments_lexer": "ipython3",
      "version": "3.8.8"
    }
  },
  "cells": [
    {
      "cell_type": "markdown",
      "metadata": {
        "id": "view-in-github",
        "colab_type": "text"
      },
      "source": [
        "<a href=\"https://colab.research.google.com/github/Yun-K/JokeServer/blob/main/MLP.ipynb\" target=\"_parent\"><img src=\"https://colab.research.google.com/assets/colab-badge.svg\" alt=\"Open In Colab\"/></a>"
      ]
    },
    {
      "cell_type": "code",
      "metadata": {
        "id": "tchHTYls7AkS"
      },
      "source": [
        "# Name: Yun Zhou\n",
        "# ID:   300442776\n",
        "#  # for using the vs code on colab\n",
        "#  !pip install colabcode\n",
        "# from colabcode import ColabCode\n",
        "# ColabCode(port=10000,password=\"12345\")"
      ],
      "execution_count": 1,
      "outputs": []
    },
    {
      "cell_type": "code",
      "metadata": {
        "colab": {
          "base_uri": "https://localhost:8080/"
        },
        "id": "DY7K-k8W7bJ6",
        "outputId": "589289f4-d751-4b6c-ffeb-e916f0d07e9e"
      },
      "source": [
        "!pip install torchmetrics"
      ],
      "execution_count": 2,
      "outputs": [
        {
          "output_type": "stream",
          "name": "stdout",
          "text": [
            "Collecting torchmetrics\n",
            "  Downloading torchmetrics-0.5.1-py3-none-any.whl (282 kB)\n",
            "\u001b[?25l\r\u001b[K     |█▏                              | 10 kB 21.1 MB/s eta 0:00:01\r\u001b[K     |██▎                             | 20 kB 26.8 MB/s eta 0:00:01\r\u001b[K     |███▌                            | 30 kB 22.5 MB/s eta 0:00:01\r\u001b[K     |████▋                           | 40 kB 17.4 MB/s eta 0:00:01\r\u001b[K     |█████▉                          | 51 kB 7.7 MB/s eta 0:00:01\r\u001b[K     |███████                         | 61 kB 8.9 MB/s eta 0:00:01\r\u001b[K     |████████                        | 71 kB 8.0 MB/s eta 0:00:01\r\u001b[K     |█████████▎                      | 81 kB 8.9 MB/s eta 0:00:01\r\u001b[K     |██████████▍                     | 92 kB 6.9 MB/s eta 0:00:01\r\u001b[K     |███████████▋                    | 102 kB 7.3 MB/s eta 0:00:01\r\u001b[K     |████████████▊                   | 112 kB 7.3 MB/s eta 0:00:01\r\u001b[K     |██████████████                  | 122 kB 7.3 MB/s eta 0:00:01\r\u001b[K     |███████████████                 | 133 kB 7.3 MB/s eta 0:00:01\r\u001b[K     |████████████████▏               | 143 kB 7.3 MB/s eta 0:00:01\r\u001b[K     |█████████████████▍              | 153 kB 7.3 MB/s eta 0:00:01\r\u001b[K     |██████████████████▌             | 163 kB 7.3 MB/s eta 0:00:01\r\u001b[K     |███████████████████▊            | 174 kB 7.3 MB/s eta 0:00:01\r\u001b[K     |████████████████████▉           | 184 kB 7.3 MB/s eta 0:00:01\r\u001b[K     |██████████████████████          | 194 kB 7.3 MB/s eta 0:00:01\r\u001b[K     |███████████████████████▏        | 204 kB 7.3 MB/s eta 0:00:01\r\u001b[K     |████████████████████████▎       | 215 kB 7.3 MB/s eta 0:00:01\r\u001b[K     |█████████████████████████▌      | 225 kB 7.3 MB/s eta 0:00:01\r\u001b[K     |██████████████████████████▋     | 235 kB 7.3 MB/s eta 0:00:01\r\u001b[K     |███████████████████████████▉    | 245 kB 7.3 MB/s eta 0:00:01\r\u001b[K     |█████████████████████████████   | 256 kB 7.3 MB/s eta 0:00:01\r\u001b[K     |██████████████████████████████  | 266 kB 7.3 MB/s eta 0:00:01\r\u001b[K     |███████████████████████████████▎| 276 kB 7.3 MB/s eta 0:00:01\r\u001b[K     |████████████████████████████████| 282 kB 7.3 MB/s \n",
            "\u001b[?25hRequirement already satisfied: numpy>=1.17.2 in /usr/local/lib/python3.7/dist-packages (from torchmetrics) (1.19.5)\n",
            "Requirement already satisfied: packaging in /usr/local/lib/python3.7/dist-packages (from torchmetrics) (21.0)\n",
            "Requirement already satisfied: torch>=1.3.1 in /usr/local/lib/python3.7/dist-packages (from torchmetrics) (1.9.0+cu111)\n",
            "Requirement already satisfied: typing-extensions in /usr/local/lib/python3.7/dist-packages (from torch>=1.3.1->torchmetrics) (3.7.4.3)\n",
            "Requirement already satisfied: pyparsing>=2.0.2 in /usr/local/lib/python3.7/dist-packages (from packaging->torchmetrics) (2.4.7)\n",
            "Installing collected packages: torchmetrics\n",
            "Successfully installed torchmetrics-0.5.1\n"
          ]
        }
      ]
    },
    {
      "cell_type": "markdown",
      "metadata": {
        "id": "IirwIFv57AkV"
      },
      "source": [
        "import libraries"
      ]
    },
    {
      "cell_type": "code",
      "metadata": {
        "id": "ov9Ejz8F7AkY"
      },
      "source": [
        "\n",
        "import os\n",
        "import time\n",
        "\n",
        "import cv2\n",
        "# import helper\n",
        "import matplotlib.pyplot as plt\n",
        "import numpy as np\n",
        "import pandas as pd\n",
        "import torch  # PyTorch\n",
        "import torch.autograd\n",
        "import torch.nn as nn\n",
        "import torch.nn.functional as F\n",
        "import torch.optim as optim\n",
        "import torchmetrics  # metrics like accuracy, recall, etc\n",
        "import torchvision\n",
        "import torchvision.transforms as transforms  # for image Transformation\n",
        "import tqdm\n",
        "from PIL import Image\n",
        "from sklearn.datasets import load_digits\n",
        "from sklearn.metrics import (accuracy_score, confusion_matrix, make_scorer,\n",
        "                             mean_absolute_error, mean_squared_error,\n",
        "                             precision_recall_fscore_support, recall_score,\n",
        "                             roc_auc_score)\n",
        "from sklearn.model_selection import (KFold, LeaveOneOut, ShuffleSplit,\n",
        "                                     cross_val_score, cross_validate,\n",
        "                                     train_test_split)\n",
        "from sklearn.neural_network import MLPClassifier, MLPRegressor\n",
        "from torch import nn\n",
        "from torch.autograd import Variable\n",
        "from torch.nn.modules.container import Sequential\n",
        "from torch.optim import lr_scheduler\n",
        "from torch.optim.lr_scheduler import (CosineAnnealingLR, ReduceLROnPlateau,\n",
        "                                      StepLR)\n",
        "from torch.utils.data import DataLoader, Dataset, TensorDataset, random_split\n",
        "from torch.utils.data.sampler import SubsetRandomSampler  # Sampler\n",
        "from torch.utils.tensorboard import SummaryWriter\n",
        "from torchvision import datasets, transforms\n",
        "from torchvision.datasets import ImageFolder\n",
        "\n",
        "# import myutil\n"
      ],
      "execution_count": 3,
      "outputs": []
    },
    {
      "cell_type": "markdown",
      "metadata": {
        "id": "nW08HzYS7AkZ"
      },
      "source": [
        "initialize some necessary global variable\n",
        "And set up google colab path \n",
        "> https://medium.com/analytics-vidhya/how-to-use-google-colab-with-github-via-google-drive-68efb23a42d"
      ]
    },
    {
      "cell_type": "code",
      "metadata": {
        "colab": {
          "base_uri": "https://localhost:8080/"
        },
        "id": "H-JSWHy07Aka",
        "outputId": "e3705508-5bae-4adb-f661-3b58bb8ed686"
      },
      "source": [
        "# for using CPU or GPU\n",
        "# import torch \n",
        "DEVICE = ('cuda' if torch.cuda.is_available() else 'cpu')\n",
        "print(\"we can use:\", DEVICE, \"to run the Model \")\n",
        "\n",
        "isColab = True  if torch.cuda.is_available() else False\n",
        "isColab = !isColab #for CPU on colab\n",
        "\n",
        "if isColab:\n",
        "  from google.colab import drive\n",
        "  drive.mount('/content/gdrive')\n",
        "  print(\"Use google drive\")\n",
        "  # !cd /content/gdrive/MyDrive/ && ls\n",
        "\n",
        "# PREFIX_PATH = \"/content/gdrive/MyDrive/\"\n",
        "DATA_PATH = \"/content/gdrive/MyDrive/traindata\" if isColab else \"../traindata\""
      ],
      "execution_count": 4,
      "outputs": [
        {
          "output_type": "stream",
          "name": "stdout",
          "text": [
            "we can use: cpu to run the Model \n",
            "Mounted at /content/gdrive\n",
            "Use google drive\n"
          ]
        }
      ]
    },
    {
      "cell_type": "markdown",
      "metadata": {
        "id": "fG7D8PLB7Akb"
      },
      "source": [
        "load, preprocess and construct the dataset "
      ]
    },
    {
      "cell_type": "code",
      "metadata": {
        "colab": {
          "base_uri": "https://localhost:8080/"
        },
        "id": "0nDDUX5j7Akc",
        "outputId": "d3f16da5-633b-46ee-fcaa-2ba60c33e848"
      },
      "source": [
        "BATCH_SIZE = 64\n",
        "train_size_coef = 0.8\n",
        "RANDOM_SEED = 309\n",
        "\n",
        "def load_preprocess_construct_data(path=DATA_PATH,BATCH_SIZE = BATCH_SIZE):\n",
        "    dataset_whole = ImageFolder(path, transform=transforms.Compose(\n",
        "        [\n",
        "            # scale each images into the same size\n",
        "            transforms.Resize((300, 300)),\n",
        "            transforms.ToTensor(),  # transform them into tensor\n",
        "\n",
        "            # normalize tensor images with mean and std\n",
        "            # which means all channel of the input tensor images will be normalized\n",
        "            transforms.Normalize(mean=(0.5, 0.5, 0.5),\n",
        "                                 std=(0.5, 0.5, 0.5), inplace=False),\n",
        "            transforms.RandomRotation(degrees=(0, 180))\n",
        "        ])\n",
        "    )\n",
        "    # split the data into train/valid set\n",
        "    train_set, valid_set = train_test_split(dataset_whole, train_size=train_size_coef,\n",
        "                                            random_state=RANDOM_SEED)\n",
        "    # valid_set.\n",
        "    # shuffle:TRUE means random sample\n",
        "    # drop_last:False will make sure that no images will be droped even there are no enough BATCH_SIZE(e.g. 64) images at the last round\n",
        "    train_loader = DataLoader(\n",
        "        train_set, batch_size=BATCH_SIZE, shuffle=True, num_workers=2, drop_last=False)\n",
        "    valid_loader = DataLoader(\n",
        "        valid_set, batch_size=BATCH_SIZE, shuffle=True, num_workers=2, drop_last=False)\n",
        "\n",
        "    print(dataset_whole.classes)\n",
        "\n",
        "    print(\"whole set len:\", len(dataset_whole))\n",
        "    print(\"train set len:\", len(train_set))\n",
        "    print(\"valid set len:\", len(valid_set))\n",
        "    print(\"train+valid set len:\", len(train_set)+len(valid_set))\n",
        "\n",
        "    return dataset_whole, train_set, valid_set, train_loader, valid_loader\n",
        "\n",
        "\n",
        "dataset_whole, train_set, valid_set, train_loader, valid_loader = load_preprocess_construct_data()\n"
      ],
      "execution_count": 5,
      "outputs": [
        {
          "output_type": "stream",
          "name": "stdout",
          "text": [
            "['cherry', 'strawberry', 'tomato']\n",
            "whole set len: 4457\n",
            "train set len: 3565\n",
            "valid set len: 892\n",
            "train+valid set len: 4457\n"
          ]
        }
      ]
    },
    {
      "cell_type": "markdown",
      "metadata": {
        "id": "jmEQscCv7Akd"
      },
      "source": [
        " use the tensorboard for visualize the data more convenient\n",
        " \n",
        " ``` \n",
        "tensorboard --logdir=preprocess\n",
        " ```"
      ]
    },
    {
      "cell_type": "code",
      "metadata": {
        "id": "xAwu3B7H7Akd"
      },
      "source": [
        "# preprocess_path  = \"/content/gdrive/MyDrive/Colab_Notebooks/preprocess\" if isColab else \"preprocess\"\n",
        "# writer = SummaryWriter(preprocess_path)\n",
        "# preprocess_step = 0\n",
        "# for (image_X,target_Y) in train_loader:\n",
        "#     # imgtensor=y-axis, global step = x axis\n",
        "#     writer.add_images(tag=\"data\", img_tensor=image_X, global_step=preprocess_step)\n",
        "#     preprocess_step = preprocess_step + 1\n",
        "# writer.close()"
      ],
      "execution_count": 6,
      "outputs": []
    },
    {
      "cell_type": "markdown",
      "metadata": {
        "id": "UP8zhgFx7Ake"
      },
      "source": [
        "get the model "
      ]
    },
    {
      "cell_type": "code",
      "metadata": {
        "id": "YvswpbTf7Ake",
        "colab": {
          "base_uri": "https://localhost:8080/"
        },
        "outputId": "2447491c-1197-4c85-db0f-dbbd651f88c1"
      },
      "source": [
        "\n",
        "class MLP(nn.Module):\n",
        "    def __init__(self):\n",
        "        super().__init__()\n",
        "\n",
        "        self.layers = Sequential(\n",
        "            # nn.Conv2d(32, (3, 3), input_shape=(300, 300, 3),\n",
        "            #           activation='sigmoid', padding='same'),\n",
        "            nn.Flatten(),\n",
        "            nn.Linear(270000, 64),\n",
        "            # https://github.com/vdumoulin/conv_arithmetic/blob/master/README.md\n",
        "            # nn.MaxPool2d(),\n",
        "            # nn.Softshrink(),\n",
        "            nn.ReLU(),\n",
        "            nn.Linear(64, 32),\n",
        "            nn.ReLU(),\n",
        "\n",
        "            # 3 classes, so final out_chanel : 3\n",
        "            nn.Linear(32, 3),\n",
        "            nn.Dropout(0.3)    \n",
        "\n",
        "\n",
        "        )\n",
        "\n",
        "    def forward(self, X):\n",
        "        \"\"\"Do the forward pass on MLP\n",
        "\n",
        "        Args:\n",
        "            X ([type]): [description]\n",
        "\n",
        "        \"\"\"\n",
        "        return self.layers(X)\n",
        "\n",
        "    def to_model_string(self):\n",
        "        return 'MLP'\n",
        "DEVICE = ('cuda' if torch.cuda.is_available() else 'cpu')\n",
        "print(\"we can use:\", DEVICE, \"to run the Model \")\n",
        "model = MLP().to(DEVICE) #enable the GPU trian if we can \n",
        "print(\"Our model: \")\n",
        "print(model)"
      ],
      "execution_count": 7,
      "outputs": [
        {
          "output_type": "stream",
          "name": "stdout",
          "text": [
            "we can use: cpu to run the Model \n",
            "Our model: \n",
            "MLP(\n",
            "  (layers): Sequential(\n",
            "    (0): Flatten(start_dim=1, end_dim=-1)\n",
            "    (1): Linear(in_features=270000, out_features=64, bias=True)\n",
            "    (2): ReLU()\n",
            "    (3): Linear(in_features=64, out_features=32, bias=True)\n",
            "    (4): ReLU()\n",
            "    (5): Linear(in_features=32, out_features=3, bias=True)\n",
            "    (6): Dropout(p=0.3, inplace=False)\n",
            "  )\n",
            ")\n"
          ]
        }
      ]
    },
    {
      "cell_type": "markdown",
      "metadata": {
        "id": "QMgLbDjY7Akf"
      },
      "source": [
        "performance metric"
      ]
    },
    {
      "cell_type": "code",
      "metadata": {
        "id": "D7gw9XA97Akf"
      },
      "source": [
        "def get_accuracy(net, testloader):\n",
        "    \"\"\"\n",
        "    NOT USED in my CODE\n",
        "    this code snipest is from:\n",
        "    https://pytorch.org/tutorials/beginner/blitz/cifar10_tutorial.html\n",
        "    \"\"\"\n",
        "    correct, total = 0, 0\n",
        "    # since we're not training, we don't need to calculate the gradients for our outputs\n",
        "    with torch.no_grad():\n",
        "        for data in testloader:\n",
        "            images, labels = data\n",
        "            # calculate outputs by running images through the network\n",
        "            outputs = net(images)\n",
        "            # the class with the highest energy is what we choose as prediction\n",
        "            _, predicted = torch.max(outputs.data, 1)\n",
        "            total += labels.size(0)\n",
        "            correct += (predicted == labels).sum().item()\n",
        "\n",
        "    # print('Accuracy of the network on the 10000 test images: %d %%' % (\n",
        "    # 100 * correct / total))\n",
        "    return correct / total  # * 100"
      ],
      "execution_count": 8,
      "outputs": []
    },
    {
      "cell_type": "code",
      "metadata": {
        "id": "417dxrgX7Akg"
      },
      "source": [
        "\n",
        "# initialize the torch metric  of accuracy\n",
        "train_accuracy = torchmetrics.Accuracy().to(DEVICE)\n",
        "valid_accuracy = torchmetrics.Accuracy().to(DEVICE)\n",
        "# torchmetrics.Precision().to(DEVICE) #dont count other metrics since it is time consuming \n",
        "\n",
        "loss_function = nn.CrossEntropyLoss().to(DEVICE)\n",
        "\n",
        "LEARNING_RATE, MOMENTUM = 0.0012, 0.9\n",
        "# A Method for Stochastic Optimization_. The implementation of the L2 penalty follows changes proposed in Decoupled Weight Decay Regularization_.\n",
        "optimizer = optim.Adam(model.parameters() ,lr=LEARNING_RATE) # lr=0.001 is default lr for Adam, set to higher since we use scheduler\n",
        "\n",
        "# \n",
        "# optimizer = optim.RMSprop(model.parameters(),lr=LEARNING_RATE, momentum=MOMENTUM)\n",
        "# optimizer = optim.SGD(model.parameters(),lr=LEARNING_RATE, momentum=MOMENTUM)\n",
        "\n",
        "# optimizer = optim.SGD(model.parameters(),lr=LEARNING_RATE, momentum=MOMENTUM)\n",
        "# optimizer = optim.SGD(model.parameters(), lr=0.005, momentum=0.99)\n",
        "\n",
        "# scheduler = CyclicLR(optimizer, base_lr=lr, max_lr=0.01, step_size=5, mode='triangular2')\n",
        "# scheduler = lr_scheduler.StepLR(optimizer, step_size=3, gamma=0.1)\n",
        "# scheduler = lr_scheduler.CosineAnnealingLR(optimizer)\n",
        "\n",
        "scheduler = lr_scheduler.CosineAnnealingWarmRestarts(optimizer,T_0=3,T_mult=2)\n",
        "\n"
      ],
      "execution_count": 9,
      "outputs": []
    },
    {
      "cell_type": "markdown",
      "metadata": {
        "id": "FaaGjFXG7Akg"
      },
      "source": [
        "train the model several epoches"
      ]
    },
    {
      "cell_type": "code",
      "metadata": {
        "id": "PUpAhBUo7Akg",
        "colab": {
          "base_uri": "https://localhost:8080/"
        },
        "outputId": "98a64132-3f65-4d44-e1da-63027e2d7d58"
      },
      "source": [
        "# assert False\n",
        "model = model.train()\n",
        "total_step, valid_loss_min, valid_acc_min = 0, np.Inf, np.Inf\n",
        "loss_train_list, loss_val_list, acc_train_list, acc_valid_list, cur_lr_list = [], [], [], [], []\n",
        "\n",
        "best_model = None # for storing the best mode based on the lowest loss \n",
        "p = 0  # epoch numers of the validation set loss didn't decrease\n",
        "stop = False  # whether stop the training process\n",
        "\n",
        "iters = len(train_loader)\n",
        "epoch_num = 35 if model.to_model_string()=='CNN' else 35\n",
        "print('total epoch num',epoch_num)\n",
        "for epoch in range(0, epoch_num):\n",
        "    if stop:\n",
        "        break\n",
        "        \n",
        "    # reset for current epoch\n",
        "    train_accuracy.reset()\n",
        "    valid_accuracy.reset()\n",
        "\n",
        "    train_loss = []\n",
        "\n",
        "    for batch_index, (image_X, target_Y) in enumerate(train_loader):\n",
        "        total_step = total_step+1\n",
        "        # enable the GPU train if we can\n",
        "        image_X, target_Y = image_X.to(DEVICE), target_Y.to(DEVICE)\n",
        "\n",
        "        # Sets the gradients of all optimized torch.Tensor s to zero.\n",
        "        optimizer.zero_grad()\n",
        "\n",
        "        # do the forward , back-propagation, and optimize\n",
        "        outputs = model(image_X)\n",
        "        loss = loss_function(outputs, target_Y)\n",
        "        train_loss.append(loss.item())\n",
        "\n",
        "        # store the accuracy\n",
        "        preds = torch.max(outputs, 1)[1]\n",
        "        train_accuracy(preds, target_Y)  # TODO:\n",
        "\n",
        "        # BACKWARD and optimize\n",
        "        loss.backward()\n",
        "        optimizer.step()\n",
        "        # #If call scheduler.step() after the end of an epoch,(i.e.outside this for loop)\n",
        "        # #Then all batches in an epoch use the same learning rate,\n",
        "        # #in order to make different batches use different learning rates\n",
        "        # #we call it in there\n",
        "        # scheduler.step(epoch + batch_index / iters)\n",
        "        # cur_lr=optimizer.param_groups[-1]['lr']\n",
        "        # cur_lr_list.append(cur_lr)\n",
        "        # print('cur_lr:',cur_lr)\n",
        "    # print('epoch_{}_end'.format(epoch))\n",
        "\n",
        "    scheduler.step(epoch) \n",
        "    cur_lr=optimizer.param_groups[-1]['lr']\n",
        "    cur_lr_list.append(cur_lr)\n",
        "\n",
        "    final_train_acc = train_accuracy.compute().item()  # * 100\n",
        "    acc_train_list.append(final_train_acc)\n",
        "    # FIXME: DIFF ???  use np.mean() or need to divide by len(trainset)\n",
        "    final_train_loss_mean = np.sum(train_loss)/len(train_set)\n",
        "    loss_train_list.append(final_train_loss_mean)\n",
        "\n",
        "    # for validation set\n",
        "    model.eval()\n",
        "    val_loss = []\n",
        "    # since we're not training, we don't need to calculate the gradients for our outputs\n",
        "    with torch.no_grad():\n",
        "        for batch_index, (image_X, target_Y) in enumerate(valid_loader):\n",
        "            # enable the GPU  if we can\n",
        "            image_X, target_Y = image_X.to(DEVICE), target_Y.to(DEVICE)\n",
        "            outputs = model(image_X)\n",
        "            loss = loss_function(outputs, target_Y)\n",
        "            val_loss.append(loss.item())\n",
        "\n",
        "            # store the accuracy\n",
        "            preds = torch.max(outputs, 1)[1]\n",
        "            valid_accuracy(preds, target_Y)  # TODO:\n",
        "    final_valid_acc = valid_accuracy.compute().item()  # * 100\n",
        "    acc_valid_list.append(final_valid_acc)\n",
        "\n",
        "    # FIXME: DIFF ???  use np.mean() or need to divide by len(trainset)\n",
        "    final_valid_loss_mean = np.sum(val_loss)/len(valid_set)\n",
        "    loss_val_list .append(final_valid_loss_mean)\n",
        "    print('-'*70)\n",
        "    print('-'*70)\n",
        "    print(time.ctime())\n",
        "    print(\n",
        "        f'Epoch {epoch}:', '\\n', f'training step:{total_step}, train loss: {final_train_loss_mean:.4f}, valid loss: { final_valid_loss_mean:.4f}', \\\n",
        "        '\\n',f\"Learning rate:{cur_lr}\" )\n",
        "    print(f\"Train set accuracy: {final_train_acc:.4f}\")\n",
        "    print(f\"Valid set accuracy: {final_valid_acc:.4f}\")\n",
        "\n",
        "    scheduler.step(final_valid_loss_mean)\n",
        "\n",
        "    # check if the loss on valid set is improved or not\n",
        "    if final_valid_loss_mean <= valid_loss_min: # and final_valid_acc <= valid_acc_min:\n",
        "        print('-'*10)\n",
        "        print('Validation loss decreased ({:.8f} --> {:.8f}).  Saving model ...'.format(\n",
        "            valid_loss_min,\n",
        "            final_valid_loss_mean))\n",
        "        best_model = model.state_dict() # assign this model since it perform better \n",
        "        # torch.save(model.state_dict(), MODEL_SAVE_PATH)\n",
        "        valid_loss_min = final_valid_loss_mean\n",
        "        p = 0  # reset P\n",
        "    # else:\n",
        "    #     print('-'*15)\n",
        "    #     p += 1\n",
        "    #     print(f'{p} epochs of increasing validation loss')\n",
        "    #     if p >= 16:\n",
        "    #         print(f'Stopping training since no improvement on the validation loss over {p} epoches ')\n",
        "    #         stop = True\n",
        "    #         break\n",
        "\n"
      ],
      "execution_count": 10,
      "outputs": [
        {
          "output_type": "stream",
          "name": "stdout",
          "text": [
            "total epoch num 20\n",
            "----------------------------------------------------------------------\n",
            "----------------------------------------------------------------------\n",
            "Thu Oct 21 05:08:35 2021\n",
            "Epoch 0: \n",
            " training step:56, train loss: 0.0570, valid loss: 0.0280 \n",
            " Learning rate:0.0012\n",
            "Train set accuracy: 0.3759\n",
            "Valid set accuracy: 0.4339\n",
            "----------\n",
            "Validation loss decreased (inf --> 0.02803546).  Saving model ...\n",
            "----------------------------------------------------------------------\n",
            "----------------------------------------------------------------------\n",
            "Thu Oct 21 05:08:53 2021\n",
            "Epoch 1: \n",
            " training step:112, train loss: 0.0189, valid loss: 0.0192 \n",
            " Learning rate:0.0010854101966249685\n",
            "Train set accuracy: 0.4928\n",
            "Valid set accuracy: 0.4406\n",
            "----------\n",
            "Validation loss decreased (0.02803546 --> 0.01917627).  Saving model ...\n",
            "----------------------------------------------------------------------\n",
            "----------------------------------------------------------------------\n",
            "Thu Oct 21 05:09:10 2021\n",
            "Epoch 2: \n",
            " training step:168, train loss: 0.0151, valid loss: 0.0189 \n",
            " Learning rate:0.0007854101966249684\n",
            "Train set accuracy: 0.5557\n",
            "Valid set accuracy: 0.4383\n",
            "----------\n",
            "Validation loss decreased (0.01917627 --> 0.01893050).  Saving model ...\n",
            "----------------------------------------------------------------------\n",
            "----------------------------------------------------------------------\n",
            "Thu Oct 21 05:09:27 2021\n",
            "Epoch 3: \n",
            " training step:224, train loss: 0.0135, valid loss: 0.0198 \n",
            " Learning rate:0.0004145898033750316\n",
            "Train set accuracy: 0.6205\n",
            "Valid set accuracy: 0.4540\n",
            "----------------------------------------------------------------------\n",
            "----------------------------------------------------------------------\n",
            "Thu Oct 21 05:09:45 2021\n",
            "Epoch 4: \n",
            " training step:280, train loss: 0.0127, valid loss: 0.0192 \n",
            " Learning rate:0.00011458980337503159\n",
            "Train set accuracy: 0.6426\n",
            "Valid set accuracy: 0.4608\n",
            "----------------------------------------------------------------------\n",
            "----------------------------------------------------------------------\n",
            "Thu Oct 21 05:10:02 2021\n",
            "Epoch 5: \n",
            " training step:336, train loss: 0.0105, valid loss: 0.0212 \n",
            " Learning rate:0.0012\n",
            "Train set accuracy: 0.7181\n",
            "Valid set accuracy: 0.4652\n",
            "----------------------------------------------------------------------\n",
            "----------------------------------------------------------------------\n",
            "Thu Oct 21 05:10:20 2021\n",
            "Epoch 6: \n",
            " training step:392, train loss: 0.0095, valid loss: 0.0226 \n",
            " Learning rate:0.0011706339097770921\n",
            "Train set accuracy: 0.7501\n",
            "Valid set accuracy: 0.4361\n",
            "----------------------------------------------------------------------\n",
            "----------------------------------------------------------------------\n",
            "Thu Oct 21 05:10:37 2021\n",
            "Epoch 7: \n",
            " training step:448, train loss: 0.0088, valid loss: 0.0231 \n",
            " Learning rate:0.0010854101966249685\n",
            "Train set accuracy: 0.7596\n",
            "Valid set accuracy: 0.4372\n",
            "----------------------------------------------------------------------\n",
            "----------------------------------------------------------------------\n",
            "Thu Oct 21 05:10:55 2021\n",
            "Epoch 8: \n",
            " training step:504, train loss: 0.0077, valid loss: 0.0231 \n",
            " Learning rate:0.0009526711513754837\n",
            "Train set accuracy: 0.7952\n",
            "Valid set accuracy: 0.4709\n",
            "----------------------------------------------------------------------\n",
            "----------------------------------------------------------------------\n",
            "Thu Oct 21 05:11:12 2021\n",
            "Epoch 9: \n",
            " training step:560, train loss: 0.0071, valid loss: 0.0252 \n",
            " Learning rate:0.0007854101966249684\n",
            "Train set accuracy: 0.8160\n",
            "Valid set accuracy: 0.4361\n",
            "----------------------------------------------------------------------\n",
            "----------------------------------------------------------------------\n",
            "Thu Oct 21 05:11:30 2021\n",
            "Epoch 10: \n",
            " training step:616, train loss: 0.0066, valid loss: 0.0252 \n",
            " Learning rate:0.0006\n",
            "Train set accuracy: 0.8264\n",
            "Valid set accuracy: 0.4742\n",
            "----------------------------------------------------------------------\n",
            "----------------------------------------------------------------------\n",
            "Thu Oct 21 05:11:48 2021\n",
            "Epoch 11: \n",
            " training step:672, train loss: 0.0064, valid loss: 0.0301 \n",
            " Learning rate:0.0004145898033750316\n",
            "Train set accuracy: 0.8393\n",
            "Valid set accuracy: 0.4563\n",
            "----------------------------------------------------------------------\n",
            "----------------------------------------------------------------------\n",
            "Thu Oct 21 05:12:05 2021\n",
            "Epoch 12: \n",
            " training step:728, train loss: 0.0067, valid loss: 0.0279 \n",
            " Learning rate:0.00024732884862451615\n",
            "Train set accuracy: 0.8398\n",
            "Valid set accuracy: 0.4608\n",
            "----------------------------------------------------------------------\n",
            "----------------------------------------------------------------------\n",
            "Thu Oct 21 05:12:23 2021\n",
            "Epoch 13: \n",
            " training step:784, train loss: 0.0065, valid loss: 0.0292 \n",
            " Learning rate:0.00011458980337503159\n",
            "Train set accuracy: 0.8353\n",
            "Valid set accuracy: 0.4518\n",
            "----------------------------------------------------------------------\n",
            "----------------------------------------------------------------------\n",
            "Thu Oct 21 05:12:40 2021\n",
            "Epoch 14: \n",
            " training step:840, train loss: 0.0060, valid loss: 0.0313 \n",
            " Learning rate:2.936609022290788e-05\n",
            "Train set accuracy: 0.8511\n",
            "Valid set accuracy: 0.4271\n",
            "----------------------------------------------------------------------\n",
            "----------------------------------------------------------------------\n",
            "Thu Oct 21 05:12:58 2021\n",
            "Epoch 15: \n",
            " training step:896, train loss: 0.0065, valid loss: 0.0314 \n",
            " Learning rate:0.0012\n",
            "Train set accuracy: 0.8505\n",
            "Valid set accuracy: 0.4316\n",
            "----------------------------------------------------------------------\n",
            "----------------------------------------------------------------------\n",
            "Thu Oct 21 05:13:16 2021\n",
            "Epoch 16: \n",
            " training step:952, train loss: 0.0063, valid loss: 0.0319 \n",
            " Learning rate:0.0011926130043570825\n",
            "Train set accuracy: 0.8446\n",
            "Valid set accuracy: 0.4361\n",
            "----------------------------------------------------------------------\n",
            "----------------------------------------------------------------------\n",
            "Thu Oct 21 05:13:33 2021\n",
            "Epoch 17: \n",
            " training step:1008, train loss: 0.0046, valid loss: 0.0363 \n",
            " Learning rate:0.0011706339097770921\n",
            "Train set accuracy: 0.8813\n",
            "Valid set accuracy: 0.4294\n",
            "----------------------------------------------------------------------\n",
            "----------------------------------------------------------------------\n",
            "Thu Oct 21 05:13:51 2021\n",
            "Epoch 18: \n",
            " training step:1064, train loss: 0.0042, valid loss: 0.0369 \n",
            " Learning rate:0.0011346039145130205\n",
            "Train set accuracy: 0.8965\n",
            "Valid set accuracy: 0.4428\n",
            "----------------------------------------------------------------------\n",
            "----------------------------------------------------------------------\n",
            "Thu Oct 21 05:14:09 2021\n",
            "Epoch 19: \n",
            " training step:1120, train loss: 0.0035, valid loss: 0.0342 \n",
            " Learning rate:0.0010854101966249685\n",
            "Train set accuracy: 0.9080\n",
            "Valid set accuracy: 0.4383\n"
          ]
        }
      ]
    },
    {
      "cell_type": "markdown",
      "metadata": {
        "id": "jX_mrlHG7Akh"
      },
      "source": [
        "plot the graph "
      ]
    },
    {
      "cell_type": "code",
      "metadata": {
        "id": "TDk9vSTZ7Aki",
        "colab": {
          "base_uri": "https://localhost:8080/",
          "height": 392
        },
        "outputId": "c296cfdc-2d59-471f-f26b-c88fc790574b"
      },
      "source": [
        "plt.figure(figsize=(10, 5))\n",
        "plt.suptitle(model.to_model_string()+\" by using Adam as optimizer ang same learning scheldar for every batches\")\n",
        "\n",
        "plt.subplot(1, 2, 1).set_title('loss')\n",
        "plt.plot(loss_train_list, color='blue', label='train set')\n",
        "plt.plot(loss_val_list, color='red', label='valid set')\n",
        "plt.subplot(1, 2, 2).set_title('Accuracy')\n",
        "plt.plot(acc_train_list, color='blue', label='train set')\n",
        "plt.plot(acc_valid_list, color='red', label='valid set')\n",
        "print('Finished the training process and plot graphs')\n",
        "print(\"RED is for validation set, BLUE is for train set \")\n",
        "plt.show()\n"
      ],
      "execution_count": 11,
      "outputs": [
        {
          "output_type": "stream",
          "name": "stdout",
          "text": [
            "Finished the training process and plot graphs\n",
            "RED is for validation set, BLUE is for train set \n"
          ]
        },
        {
          "output_type": "display_data",
          "data": {
            "image/png": "[encoded data removed]",
            "text/plain": [
              "<Figure size 720x360 with 2 Axes>"
            ]
          },
          "metadata": {
            "needs_background": "light"
          }
        }
      ]
    },
    {
      "cell_type": "code",
      "metadata": {
        "id": "YXy7WCZ77Akj",
        "colab": {
          "base_uri": "https://localhost:8080/",
          "height": 283
        },
        "outputId": "b281a907-bf9d-4228-dee1-e404212bfcea"
      },
      "source": [
        "print('plot graph for learning rate changes')\n",
        "x_list = list(range(len(cur_lr_list)))\n",
        "plt.plot(x_list, cur_lr_list,label=\"learning rate plot\")\n",
        "plt.show()"
      ],
      "execution_count": 12,
      "outputs": [
        {
          "output_type": "stream",
          "name": "stdout",
          "text": [
            "plot graph for learning rate changes\n"
          ]
        },
        {
          "output_type": "display_data",
          "data": {
            "image/png": "[encoded data removed]",
            "text/plain": [
              "<Figure size 432x288 with 1 Axes>"
            ]
          },
          "metadata": {
            "needs_background": "light"
          }
        }
      ]
    },
    {
      "cell_type": "code",
      "metadata": {
        "id": "XTlGBBAKKJQ9"
      },
      "source": [
        "# assert False\n",
        "assert best_model is not None, \"best model is not assigned correctly on above code\"\n",
        "SAVE_PATH = \"/content/gdrive/MyDrive/Colab_Notebooks/model_Adam_MLP.pth\"\n",
        "torch.save(best_model, SAVE_PATH)"
      ],
      "execution_count": 13,
      "outputs": []
    }
  ]
}